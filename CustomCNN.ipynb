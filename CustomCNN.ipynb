{
  "nbformat": 4,
  "nbformat_minor": 0,
  "metadata": {
    "colab": {
      "name": "CustomCNN.ipynb",
      "version": "0.3.2",
      "provenance": [],
      "collapsed_sections": [],
      "include_colab_link": true
    },
    "kernelspec": {
      "name": "python3",
      "display_name": "Python 3"
    },
    "accelerator": "GPU"
  },
  "cells": [
    {
      "cell_type": "markdown",
      "metadata": {
        "id": "view-in-github",
        "colab_type": "text"
      },
      "source": [
        "<a href=\"https://colab.research.google.com/github/Nighty13/SimpleCNN/blob/master/CustomCNN.ipynb\" target=\"_parent\"><img src=\"https://colab.research.google.com/assets/colab-badge.svg\" alt=\"Open In Colab\"/></a>"
      ]
    },
    {
      "cell_type": "code",
      "metadata": {
        "id": "diT1a8S3tsae",
        "colab_type": "code",
        "colab": {}
      },
      "source": [
        "import json\n",
        "from pprint import pprint\n",
        "from google.colab import auth\n",
        "from googleapiclient.discovery import build\n",
        "import io\n",
        "from googleapiclient.http import MediaIoBaseDownload\n",
        "import pickle"
      ],
      "execution_count": 0,
      "outputs": []
    },
    {
      "cell_type": "code",
      "metadata": {
        "id": "lnsXseeYtu3O",
        "colab_type": "code",
        "colab": {}
      },
      "source": [
        "auth.authenticate_user()\n",
        "drive_service = build('drive', 'v3')"
      ],
      "execution_count": 0,
      "outputs": []
    },
    {
      "cell_type": "code",
      "metadata": {
        "id": "ypASPp69ty3T",
        "colab_type": "code",
        "colab": {}
      },
      "source": [
        "def _create_file_request(file_id):\n",
        "    return drive_service.files().get_media(fileId=file_id)\n",
        "\n",
        "\n",
        "def _download_response_bytes(request, print_progress=False):\n",
        "    downloaded = io.BytesIO()\n",
        "    downloader = MediaIoBaseDownload(downloaded, request)\n",
        "    \n",
        "    for status in _progbar(downloader):\n",
        "        if print_progress:\n",
        "            print(\"Downloaded {}/{} bytes\".format(status.resumable_progress, status.total_size))\n",
        "  \n",
        "    downloaded.seek(0)\n",
        "    return downloaded.read()\n",
        "\n",
        "  \n",
        "def _progbar(downloader):\n",
        "    done = False\n",
        "    while done is False:\n",
        "        status, done = downloader.next_chunk()\n",
        "        yield status\n",
        "\n",
        "\n",
        "def get_file_id(name):\n",
        "    return get_matching_files(name)[0]['id']\n",
        "\n",
        "\n",
        "def move_from_drive_to_disk(file_names, file_destinations):\n",
        "    for file_name, dest in zip(file_names, file_destinations):\n",
        "        file_id = get_file_id(file_name)\n",
        "        print('Downloading file: \"{}\"'.format(file_name))\n",
        "        file_bytes = _download_response_bytes(_create_file_request(file_id), print_progress=True)\n",
        "        with open(dest, \"wb\") as f:\n",
        "            f.write(file_bytes)\n",
        "\n",
        "\n",
        "def load_pickled_files(file_names):\n",
        "    for name in file_names:\n",
        "        yield pickle.load(open(name, \"rb\"))\n",
        "        \n",
        "\n",
        "def get_matching_files(name):\n",
        "    drive_files_response = _download_response_bytes(drive_service.files().list())\n",
        "    drive_files_response_dict = json.loads(\n",
        "        drive_files_response.decode('utf-8')\n",
        "    )\n",
        "    drive_files_dict = drive_files_response_dict['files']\n",
        "  \n",
        "    matching_records = [\n",
        "        record\n",
        "        for record in drive_files_dict\n",
        "        if record['name'] == name\n",
        "    ]\n",
        "\n",
        "    no_records = len(matching_records)\n",
        "    if no_records == 0:\n",
        "        raise ValueError('no such file: \"{}\" on your Google Drive'.format(name))\n",
        "    elif no_records > 1:\n",
        "        print('warning: multiple matches for file \"{}\"'.format(name))\n",
        "    return matching_records"
      ],
      "execution_count": 0,
      "outputs": []
    },
    {
      "cell_type": "code",
      "metadata": {
        "id": "3mgTbdIdt6pw",
        "colab_type": "code",
        "outputId": "8e1d4ca1-17e5-4726-87e1-743394f1d105",
        "colab": {
          "base_uri": "https://localhost:8080/",
          "height": 387
        }
      },
      "source": [
        "example_file_name = 'CATS_DOGS.zip'\n",
        "example_file_id = get_file_id(example_file_name)\n",
        "move_from_drive_to_disk([example_file_name], ['CATS_DOGS.zip'])"
      ],
      "execution_count": 84,
      "outputs": [
        {
          "output_type": "stream",
          "text": [
            "Downloading file: \"CATS_DOGS.zip\"\n",
            "Downloaded 104857601/811517079 bytes\n",
            "Downloaded 209715202/811517079 bytes\n"
          ],
          "name": "stdout"
        },
        {
          "output_type": "error",
          "ename": "KeyboardInterrupt",
          "evalue": "ignored",
          "traceback": [
            "\u001b[0;31m---------------------------------------------------------------------------\u001b[0m",
            "\u001b[0;31mKeyboardInterrupt\u001b[0m                         Traceback (most recent call last)",
            "\u001b[0;32m<ipython-input-84-c9fe993c0830>\u001b[0m in \u001b[0;36m<module>\u001b[0;34m()\u001b[0m\n\u001b[1;32m      1\u001b[0m \u001b[0mexample_file_name\u001b[0m \u001b[0;34m=\u001b[0m \u001b[0;34m'CATS_DOGS.zip'\u001b[0m\u001b[0;34m\u001b[0m\u001b[0;34m\u001b[0m\u001b[0m\n\u001b[1;32m      2\u001b[0m \u001b[0mexample_file_id\u001b[0m \u001b[0;34m=\u001b[0m \u001b[0mget_file_id\u001b[0m\u001b[0;34m(\u001b[0m\u001b[0mexample_file_name\u001b[0m\u001b[0;34m)\u001b[0m\u001b[0;34m\u001b[0m\u001b[0;34m\u001b[0m\u001b[0m\n\u001b[0;32m----> 3\u001b[0;31m \u001b[0mmove_from_drive_to_disk\u001b[0m\u001b[0;34m(\u001b[0m\u001b[0;34m[\u001b[0m\u001b[0mexample_file_name\u001b[0m\u001b[0;34m]\u001b[0m\u001b[0;34m,\u001b[0m \u001b[0;34m[\u001b[0m\u001b[0;34m'CATS_DOGS.zip'\u001b[0m\u001b[0;34m]\u001b[0m\u001b[0;34m)\u001b[0m\u001b[0;34m\u001b[0m\u001b[0;34m\u001b[0m\u001b[0m\n\u001b[0m",
            "\u001b[0;32m<ipython-input-83-0754f09e3d7b>\u001b[0m in \u001b[0;36mmove_from_drive_to_disk\u001b[0;34m(file_names, file_destinations)\u001b[0m\n\u001b[1;32m     30\u001b[0m         \u001b[0mfile_id\u001b[0m \u001b[0;34m=\u001b[0m \u001b[0mget_file_id\u001b[0m\u001b[0;34m(\u001b[0m\u001b[0mfile_name\u001b[0m\u001b[0;34m)\u001b[0m\u001b[0;34m\u001b[0m\u001b[0;34m\u001b[0m\u001b[0m\n\u001b[1;32m     31\u001b[0m         \u001b[0mprint\u001b[0m\u001b[0;34m(\u001b[0m\u001b[0;34m'Downloading file: \"{}\"'\u001b[0m\u001b[0;34m.\u001b[0m\u001b[0mformat\u001b[0m\u001b[0;34m(\u001b[0m\u001b[0mfile_name\u001b[0m\u001b[0;34m)\u001b[0m\u001b[0;34m)\u001b[0m\u001b[0;34m\u001b[0m\u001b[0;34m\u001b[0m\u001b[0m\n\u001b[0;32m---> 32\u001b[0;31m         \u001b[0mfile_bytes\u001b[0m \u001b[0;34m=\u001b[0m \u001b[0m_download_response_bytes\u001b[0m\u001b[0;34m(\u001b[0m\u001b[0m_create_file_request\u001b[0m\u001b[0;34m(\u001b[0m\u001b[0mfile_id\u001b[0m\u001b[0;34m)\u001b[0m\u001b[0;34m,\u001b[0m \u001b[0mprint_progress\u001b[0m\u001b[0;34m=\u001b[0m\u001b[0;32mTrue\u001b[0m\u001b[0;34m)\u001b[0m\u001b[0;34m\u001b[0m\u001b[0;34m\u001b[0m\u001b[0m\n\u001b[0m\u001b[1;32m     33\u001b[0m         \u001b[0;32mwith\u001b[0m \u001b[0mopen\u001b[0m\u001b[0;34m(\u001b[0m\u001b[0mdest\u001b[0m\u001b[0;34m,\u001b[0m \u001b[0;34m\"wb\"\u001b[0m\u001b[0;34m)\u001b[0m \u001b[0;32mas\u001b[0m \u001b[0mf\u001b[0m\u001b[0;34m:\u001b[0m\u001b[0;34m\u001b[0m\u001b[0;34m\u001b[0m\u001b[0m\n\u001b[1;32m     34\u001b[0m             \u001b[0mf\u001b[0m\u001b[0;34m.\u001b[0m\u001b[0mwrite\u001b[0m\u001b[0;34m(\u001b[0m\u001b[0mfile_bytes\u001b[0m\u001b[0;34m)\u001b[0m\u001b[0;34m\u001b[0m\u001b[0;34m\u001b[0m\u001b[0m\n",
            "\u001b[0;32m<ipython-input-83-0754f09e3d7b>\u001b[0m in \u001b[0;36m_download_response_bytes\u001b[0;34m(request, print_progress)\u001b[0m\n\u001b[1;32m      7\u001b[0m     \u001b[0mdownloader\u001b[0m \u001b[0;34m=\u001b[0m \u001b[0mMediaIoBaseDownload\u001b[0m\u001b[0;34m(\u001b[0m\u001b[0mdownloaded\u001b[0m\u001b[0;34m,\u001b[0m \u001b[0mrequest\u001b[0m\u001b[0;34m)\u001b[0m\u001b[0;34m\u001b[0m\u001b[0;34m\u001b[0m\u001b[0m\n\u001b[1;32m      8\u001b[0m \u001b[0;34m\u001b[0m\u001b[0m\n\u001b[0;32m----> 9\u001b[0;31m     \u001b[0;32mfor\u001b[0m \u001b[0mstatus\u001b[0m \u001b[0;32min\u001b[0m \u001b[0m_progbar\u001b[0m\u001b[0;34m(\u001b[0m\u001b[0mdownloader\u001b[0m\u001b[0;34m)\u001b[0m\u001b[0;34m:\u001b[0m\u001b[0;34m\u001b[0m\u001b[0;34m\u001b[0m\u001b[0m\n\u001b[0m\u001b[1;32m     10\u001b[0m         \u001b[0;32mif\u001b[0m \u001b[0mprint_progress\u001b[0m\u001b[0;34m:\u001b[0m\u001b[0;34m\u001b[0m\u001b[0;34m\u001b[0m\u001b[0m\n\u001b[1;32m     11\u001b[0m             \u001b[0mprint\u001b[0m\u001b[0;34m(\u001b[0m\u001b[0;34m\"Downloaded {}/{} bytes\"\u001b[0m\u001b[0;34m.\u001b[0m\u001b[0mformat\u001b[0m\u001b[0;34m(\u001b[0m\u001b[0mstatus\u001b[0m\u001b[0;34m.\u001b[0m\u001b[0mresumable_progress\u001b[0m\u001b[0;34m,\u001b[0m \u001b[0mstatus\u001b[0m\u001b[0;34m.\u001b[0m\u001b[0mtotal_size\u001b[0m\u001b[0;34m)\u001b[0m\u001b[0;34m)\u001b[0m\u001b[0;34m\u001b[0m\u001b[0;34m\u001b[0m\u001b[0m\n",
            "\u001b[0;32m<ipython-input-83-0754f09e3d7b>\u001b[0m in \u001b[0;36m_progbar\u001b[0;34m(downloader)\u001b[0m\n\u001b[1;32m     18\u001b[0m     \u001b[0mdone\u001b[0m \u001b[0;34m=\u001b[0m \u001b[0;32mFalse\u001b[0m\u001b[0;34m\u001b[0m\u001b[0;34m\u001b[0m\u001b[0m\n\u001b[1;32m     19\u001b[0m     \u001b[0;32mwhile\u001b[0m \u001b[0mdone\u001b[0m \u001b[0;32mis\u001b[0m \u001b[0;32mFalse\u001b[0m\u001b[0;34m:\u001b[0m\u001b[0;34m\u001b[0m\u001b[0;34m\u001b[0m\u001b[0m\n\u001b[0;32m---> 20\u001b[0;31m         \u001b[0mstatus\u001b[0m\u001b[0;34m,\u001b[0m \u001b[0mdone\u001b[0m \u001b[0;34m=\u001b[0m \u001b[0mdownloader\u001b[0m\u001b[0;34m.\u001b[0m\u001b[0mnext_chunk\u001b[0m\u001b[0;34m(\u001b[0m\u001b[0;34m)\u001b[0m\u001b[0;34m\u001b[0m\u001b[0;34m\u001b[0m\u001b[0m\n\u001b[0m\u001b[1;32m     21\u001b[0m         \u001b[0;32myield\u001b[0m \u001b[0mstatus\u001b[0m\u001b[0;34m\u001b[0m\u001b[0;34m\u001b[0m\u001b[0m\n\u001b[1;32m     22\u001b[0m \u001b[0;34m\u001b[0m\u001b[0m\n",
            "\u001b[0;32m/usr/local/lib/python3.6/dist-packages/googleapiclient/_helpers.py\u001b[0m in \u001b[0;36mpositional_wrapper\u001b[0;34m(*args, **kwargs)\u001b[0m\n\u001b[1;32m    128\u001b[0m                 \u001b[0;32melif\u001b[0m \u001b[0mpositional_parameters_enforcement\u001b[0m \u001b[0;34m==\u001b[0m \u001b[0mPOSITIONAL_WARNING\u001b[0m\u001b[0;34m:\u001b[0m\u001b[0;34m\u001b[0m\u001b[0;34m\u001b[0m\u001b[0m\n\u001b[1;32m    129\u001b[0m                     \u001b[0mlogger\u001b[0m\u001b[0;34m.\u001b[0m\u001b[0mwarning\u001b[0m\u001b[0;34m(\u001b[0m\u001b[0mmessage\u001b[0m\u001b[0;34m)\u001b[0m\u001b[0;34m\u001b[0m\u001b[0;34m\u001b[0m\u001b[0m\n\u001b[0;32m--> 130\u001b[0;31m             \u001b[0;32mreturn\u001b[0m \u001b[0mwrapped\u001b[0m\u001b[0;34m(\u001b[0m\u001b[0;34m*\u001b[0m\u001b[0margs\u001b[0m\u001b[0;34m,\u001b[0m \u001b[0;34m**\u001b[0m\u001b[0mkwargs\u001b[0m\u001b[0;34m)\u001b[0m\u001b[0;34m\u001b[0m\u001b[0;34m\u001b[0m\u001b[0m\n\u001b[0m\u001b[1;32m    131\u001b[0m         \u001b[0;32mreturn\u001b[0m \u001b[0mpositional_wrapper\u001b[0m\u001b[0;34m\u001b[0m\u001b[0;34m\u001b[0m\u001b[0m\n\u001b[1;32m    132\u001b[0m \u001b[0;34m\u001b[0m\u001b[0m\n",
            "\u001b[0;32m/usr/local/lib/python3.6/dist-packages/googleapiclient/http.py\u001b[0m in \u001b[0;36mnext_chunk\u001b[0;34m(self, num_retries)\u001b[0m\n\u001b[1;32m    679\u001b[0m         \u001b[0mself\u001b[0m\u001b[0;34m.\u001b[0m\u001b[0m_uri\u001b[0m \u001b[0;34m=\u001b[0m \u001b[0mresp\u001b[0m\u001b[0;34m[\u001b[0m\u001b[0;34m'content-location'\u001b[0m\u001b[0;34m]\u001b[0m\u001b[0;34m\u001b[0m\u001b[0;34m\u001b[0m\u001b[0m\n\u001b[1;32m    680\u001b[0m       \u001b[0mself\u001b[0m\u001b[0;34m.\u001b[0m\u001b[0m_progress\u001b[0m \u001b[0;34m+=\u001b[0m \u001b[0mlen\u001b[0m\u001b[0;34m(\u001b[0m\u001b[0mcontent\u001b[0m\u001b[0;34m)\u001b[0m\u001b[0;34m\u001b[0m\u001b[0;34m\u001b[0m\u001b[0m\n\u001b[0;32m--> 681\u001b[0;31m       \u001b[0mself\u001b[0m\u001b[0;34m.\u001b[0m\u001b[0m_fd\u001b[0m\u001b[0;34m.\u001b[0m\u001b[0mwrite\u001b[0m\u001b[0;34m(\u001b[0m\u001b[0mcontent\u001b[0m\u001b[0;34m)\u001b[0m\u001b[0;34m\u001b[0m\u001b[0;34m\u001b[0m\u001b[0m\n\u001b[0m\u001b[1;32m    682\u001b[0m \u001b[0;34m\u001b[0m\u001b[0m\n\u001b[1;32m    683\u001b[0m       \u001b[0;32mif\u001b[0m \u001b[0;34m'content-range'\u001b[0m \u001b[0;32min\u001b[0m \u001b[0mresp\u001b[0m\u001b[0;34m:\u001b[0m\u001b[0;34m\u001b[0m\u001b[0;34m\u001b[0m\u001b[0m\n",
            "\u001b[0;31mKeyboardInterrupt\u001b[0m: "
          ]
        }
      ]
    },
    {
      "cell_type": "code",
      "metadata": {
        "id": "EJZtSNI1ui_f",
        "colab_type": "code",
        "colab": {}
      },
      "source": [
        "!unzip CATS_DOGS.zip"
      ],
      "execution_count": 0,
      "outputs": []
    },
    {
      "cell_type": "code",
      "metadata": {
        "id": "fZvg-6kJuotg",
        "colab_type": "code",
        "colab": {}
      },
      "source": [
        "import matplotlib.pyplot as plt\n",
        "import cv2\n",
        "%matplotlib inline"
      ],
      "execution_count": 0,
      "outputs": []
    },
    {
      "cell_type": "code",
      "metadata": {
        "id": "U_wv1ybWvNgL",
        "colab_type": "code",
        "colab": {}
      },
      "source": [
        "cat4 = cv2.imread('CATS_DOGS/train/CAT/4.jpg')\n",
        "cat4 = cv2.cvtColor(cat4,cv2.COLOR_BGR2RGB)\n",
        "dog=cv2.imread('CATS_DOGS/train/DOG/2.jpg')\n",
        "dog = cv2.cvtColor(dog,cv2.COLOR_BGR2RGB)"
      ],
      "execution_count": 0,
      "outputs": []
    },
    {
      "cell_type": "code",
      "metadata": {
        "id": "eqXDV_ppvZ4N",
        "colab_type": "code",
        "colab": {}
      },
      "source": [
        "plt.imshow(cat4)"
      ],
      "execution_count": 0,
      "outputs": []
    },
    {
      "cell_type": "code",
      "metadata": {
        "id": "ujoLo0bMvb3O",
        "colab_type": "code",
        "colab": {}
      },
      "source": [
        "cat4.shape"
      ],
      "execution_count": 0,
      "outputs": []
    },
    {
      "cell_type": "code",
      "metadata": {
        "id": "Smu_5hJJvd7L",
        "colab_type": "code",
        "colab": {}
      },
      "source": [
        "plt.imshow(dog)\n",
        "dog.shape"
      ],
      "execution_count": 0,
      "outputs": []
    },
    {
      "cell_type": "code",
      "metadata": {
        "id": "ECoNinTPvmH4",
        "colab_type": "code",
        "colab": {}
      },
      "source": [
        "from keras.preprocessing.image import ImageDataGenerator"
      ],
      "execution_count": 0,
      "outputs": []
    },
    {
      "cell_type": "code",
      "metadata": {
        "id": "pzkCUxfYy53a",
        "colab_type": "code",
        "colab": {}
      },
      "source": [
        "image_gen=ImageDataGenerator(rotation_range=30,\n",
        "                             width_shift_range=0.1,\n",
        "                             height_shift_range=0.1,\n",
        "                             rescale=1/255,\n",
        "                             shear_range=0.2,\n",
        "                             zoom_range=0.2,\n",
        "                             horizontal_flip=True,\n",
        "                             fill_mode='nearest'\n",
        "                             )"
      ],
      "execution_count": 0,
      "outputs": []
    },
    {
      "cell_type": "code",
      "metadata": {
        "id": "d8vgqP4Czknd",
        "colab_type": "code",
        "colab": {}
      },
      "source": [
        "plt.imshow(image_gen.random_transform(dog))"
      ],
      "execution_count": 0,
      "outputs": []
    },
    {
      "cell_type": "code",
      "metadata": {
        "id": "BE-XiYFXztyx",
        "colab_type": "code",
        "colab": {}
      },
      "source": [
        "image_gen.flow_from_directory('CATS_DOGS/train')"
      ],
      "execution_count": 0,
      "outputs": []
    },
    {
      "cell_type": "code",
      "metadata": {
        "id": "eegFDtkU0kmo",
        "colab_type": "code",
        "colab": {}
      },
      "source": [
        "input_shape = (150,150,3)"
      ],
      "execution_count": 0,
      "outputs": []
    },
    {
      "cell_type": "code",
      "metadata": {
        "id": "xRI4mdB_HuPC",
        "colab_type": "code",
        "colab": {}
      },
      "source": [
        "from keras.models import Sequential\n",
        "from keras.layers import Activation,Dropout,Flatten,Conv2D,MaxPooling2D,Dense"
      ],
      "execution_count": 0,
      "outputs": []
    },
    {
      "cell_type": "code",
      "metadata": {
        "id": "b9l4UwAAHwtX",
        "colab_type": "code",
        "colab": {}
      },
      "source": [
        "model = Sequential()\n",
        "\n",
        "model.add(Conv2D(filters=32,kernel_size=(3,3),input_shape=(150,150,3),activation='relu'))\n",
        "model.add(MaxPooling2D(pool_size=(2,2)))\n",
        "\n",
        "model.add(Conv2D(filters=64,kernel_size=(3,3),input_shape=(150,150,3),activation='relu'))\n",
        "model.add(MaxPooling2D(pool_size=(2,2)))\n",
        "\n",
        "model.add(Conv2D(filters=64,kernel_size=(3,3),input_shape=(150,150,3),activation='relu'))\n",
        "model.add(MaxPooling2D(pool_size=(2,2)))\n",
        "\n",
        "model.add(Flatten())\n",
        "\n",
        "model.add(Dense(128))\n",
        "model.add(Activation('relu'))\n",
        "\n",
        "model.add(Dropout(rate=0.5))\n",
        "\n",
        "model.add(Dense(1))\n",
        "model.add(Activation('sigmoid'))\n",
        "\n",
        "model.compile(loss='binary_crossentropy',\n",
        "              optimizer='adam',\n",
        "              metrics=['accuracy'])\n"
      ],
      "execution_count": 0,
      "outputs": []
    },
    {
      "cell_type": "code",
      "metadata": {
        "id": "I3-L-ab3JSTf",
        "colab_type": "code",
        "colab": {}
      },
      "source": [
        "model.summary()"
      ],
      "execution_count": 0,
      "outputs": []
    },
    {
      "cell_type": "code",
      "metadata": {
        "id": "h1YONeR6J5C5",
        "colab_type": "code",
        "colab": {}
      },
      "source": [
        "batch_size=16\n",
        "train_image_gen=image_gen.flow_from_directory('CATS_DOGS/train',\n",
        "                                             target_size=input_shape[:2],\n",
        "                                             batch_size=batch_size,\n",
        "                                             class_mode='binary')"
      ],
      "execution_count": 0,
      "outputs": []
    },
    {
      "cell_type": "code",
      "metadata": {
        "id": "Jbx1JXe7Ka9B",
        "colab_type": "code",
        "colab": {}
      },
      "source": [
        "test_image_gen=image_gen.flow_from_directory('CATS_DOGS/test',\n",
        "                                             target_size=input_shape[:2],\n",
        "                                             batch_size=batch_size,\n",
        "                                             class_mode='binary')"
      ],
      "execution_count": 0,
      "outputs": []
    },
    {
      "cell_type": "code",
      "metadata": {
        "id": "MB4tDZDcKn8G",
        "colab_type": "code",
        "colab": {}
      },
      "source": [
        "train_image_gen.class_indices"
      ],
      "execution_count": 0,
      "outputs": []
    },
    {
      "cell_type": "code",
      "metadata": {
        "id": "ZhF4HKkFKrDW",
        "colab_type": "code",
        "colab": {}
      },
      "source": [
        "results=model.fit_generator(train_image_gen,epochs=100,steps_per_epoch=150,\n",
        "                           validation_data=test_image_gen,validation_steps=12)"
      ],
      "execution_count": 0,
      "outputs": []
    },
    {
      "cell_type": "code",
      "metadata": {
        "id": "wN7qC6dVLHmo",
        "colab_type": "code",
        "colab": {
          "base_uri": "https://localhost:8080/",
          "height": 1697
        },
        "outputId": "d048c4f2-3311-459f-bdd6-d1a3fb2ef3f5"
      },
      "source": [
        "results.history['acc']"
      ],
      "execution_count": 86,
      "outputs": [
        {
          "output_type": "execute_result",
          "data": {
            "text/plain": [
              "[0.5216666666666666,\n",
              " 0.56125,\n",
              " 0.5841666666666666,\n",
              " 0.56625,\n",
              " 0.5766666666666667,\n",
              " 0.5879166666666666,\n",
              " 0.6104166666666667,\n",
              " 0.626097867076041,\n",
              " 0.6425,\n",
              " 0.6341666666666667,\n",
              " 0.67375,\n",
              " 0.6558333333333334,\n",
              " 0.68,\n",
              " 0.6825,\n",
              " 0.6833333333333333,\n",
              " 0.7022166458047717,\n",
              " 0.7120833333333333,\n",
              " 0.7054166666666667,\n",
              " 0.7116666666666667,\n",
              " 0.7,\n",
              " 0.7325,\n",
              " 0.7183333333333334,\n",
              " 0.71875,\n",
              " 0.7394395651103363,\n",
              " 0.7354166666666667,\n",
              " 0.7229166666666667,\n",
              " 0.7445833333333334,\n",
              " 0.7325,\n",
              " 0.7395833333333334,\n",
              " 0.7516666666666667,\n",
              " 0.7325,\n",
              " 0.750313676360859,\n",
              " 0.755,\n",
              " 0.7570833333333333,\n",
              " 0.7545833333333334,\n",
              " 0.75625,\n",
              " 0.7804166666666666,\n",
              " 0.7625,\n",
              " 0.7566666666666667,\n",
              " 0.767879548306148,\n",
              " 0.7654166666666666,\n",
              " 0.7658333333333334,\n",
              " 0.7708333333333334,\n",
              " 0.755,\n",
              " 0.7875,\n",
              " 0.7766666666666666,\n",
              " 0.7779171894854056,\n",
              " 0.77125,\n",
              " 0.7925,\n",
              " 0.7870833333333334,\n",
              " 0.7716666666666666,\n",
              " 0.7858333333333334,\n",
              " 0.7995833333333333,\n",
              " 0.7870833333333334,\n",
              " 0.7942283563611897,\n",
              " 0.79625,\n",
              " 0.78875,\n",
              " 0.805,\n",
              " 0.78,\n",
              " 0.7875,\n",
              " 0.7904166666666667,\n",
              " 0.8066666666666666,\n",
              " 0.8063571727809323,\n",
              " 0.805,\n",
              " 0.8091666666666667,\n",
              " 0.7883333333333333,\n",
              " 0.8120833333333334,\n",
              " 0.8058333333333333,\n",
              " 0.79875,\n",
              " 0.7904166666666667,\n",
              " 0.8239230447760789,\n",
              " 0.8154166666666667,\n",
              " 0.81375,\n",
              " 0.8091666666666667,\n",
              " 0.7966666666666666,\n",
              " 0.8254166666666667,\n",
              " 0.8083333333333333,\n",
              " 0.8116666666666666,\n",
              " 0.8092848180926828,\n",
              " 0.815,\n",
              " 0.8241666666666667,\n",
              " 0.80625,\n",
              " 0.8175,\n",
              " 0.80125,\n",
              " 0.8029166666666666,\n",
              " 0.8159765788622353,\n",
              " 0.825,\n",
              " 0.8120833333333334,\n",
              " 0.8104166666666667,\n",
              " 0.8154166666666667,\n",
              " 0.8145833333333333,\n",
              " 0.8291666666666667,\n",
              " 0.81375,\n",
              " 0.8214136344874967,\n",
              " 0.8283333333333334,\n",
              " 0.8220833333333334,\n",
              " 0.8154166666666667,\n",
              " 0.8229166666666666,\n",
              " 0.8241666666666667,\n",
              " 0.8158333333333333]"
            ]
          },
          "metadata": {
            "tags": []
          },
          "execution_count": 86
        }
      ]
    },
    {
      "cell_type": "code",
      "metadata": {
        "id": "J5lB_nRCXWmP",
        "colab_type": "code",
        "colab": {
          "base_uri": "https://localhost:8080/",
          "height": 286
        },
        "outputId": "f35cec00-0ad9-42fe-fb9d-af1e02682c35"
      },
      "source": [
        "plt.plot(results.history['acc'])"
      ],
      "execution_count": 87,
      "outputs": [
        {
          "output_type": "execute_result",
          "data": {
            "text/plain": [
              "[<matplotlib.lines.Line2D at 0x7fd66955bcc0>]"
            ]
          },
          "metadata": {
            "tags": []
          },
          "execution_count": 87
        },
        {
          "output_type": "display_data",
          "data": {
            "image/png": "[encoded data removed]",
            "text/plain": [
              "<Figure size 432x288 with 1 Axes>"
            ]
          },
          "metadata": {
            "tags": []
          }
        }
      ]
    },
    {
      "cell_type": "code",
      "metadata": {
        "id": "CmN805UBkrk1",
        "colab_type": "code",
        "colab": {
          "base_uri": "https://localhost:8080/",
          "height": 50
        },
        "outputId": "e48c812d-2015-4ffe-d6a9-d18ad0861d3a"
      },
      "source": [
        "from tensorflow import keras\n",
        "from tensorflow.keras import layers\n",
        "model.save(\"model.h5\")\n",
        "print(\"Saved model to disk\")\n",
        "# Recreate the exact same model purely from the file\n",
        "new_model = keras.models.load_model('model.h5')\n",
        "print(\"Loaded new model\")"
      ],
      "execution_count": 105,
      "outputs": [
        {
          "output_type": "stream",
          "text": [
            "Saved model to disk\n",
            "Loaded new model\n"
          ],
          "name": "stdout"
        }
      ]
    },
    {
      "cell_type": "code",
      "metadata": {
        "id": "k4pLUCfkXc7P",
        "colab_type": "code",
        "colab": {}
      },
      "source": [
        "from keras.models import load_model"
      ],
      "execution_count": 0,
      "outputs": []
    },
    {
      "cell_type": "code",
      "metadata": {
        "id": "JHHImPNodfZB",
        "colab_type": "code",
        "colab": {
          "base_uri": "https://localhost:8080/",
          "height": 34
        },
        "outputId": "cb369ebd-3627-48e2-8baa-c46953ffe840"
      },
      "source": [
        "dog_file='CATS_DOGS/test/CAT/10005.jpg'\n",
        "from keras.preprocessing import image\n",
        "dog_img=image.load_img(dog_file,target_size=(150,150))\n",
        "dog_img=image.img_to_array(dog_img)\n",
        "dog_img.shape"
      ],
      "execution_count": 93,
      "outputs": [
        {
          "output_type": "execute_result",
          "data": {
            "text/plain": [
              "(150, 150, 3)"
            ]
          },
          "metadata": {
            "tags": []
          },
          "execution_count": 93
        }
      ]
    },
    {
      "cell_type": "code",
      "metadata": {
        "id": "6V-zsocXfOeK",
        "colab_type": "code",
        "colab": {}
      },
      "source": [
        "import numpy as np\n",
        "dog_img=np.expand_dims(dog_img,axis=0)\n",
        "dog_img=dog_img/255"
      ],
      "execution_count": 0,
      "outputs": []
    },
    {
      "cell_type": "code",
      "metadata": {
        "id": "tfgN4zNLimar",
        "colab_type": "code",
        "colab": {
          "base_uri": "https://localhost:8080/",
          "height": 34
        },
        "outputId": "5de1c702-09d0-47d7-9371-2aea297397cf"
      },
      "source": [
        "dog_img.shape"
      ],
      "execution_count": 95,
      "outputs": [
        {
          "output_type": "execute_result",
          "data": {
            "text/plain": [
              "(1, 150, 150, 3)"
            ]
          },
          "metadata": {
            "tags": []
          },
          "execution_count": 95
        }
      ]
    },
    {
      "cell_type": "code",
      "metadata": {
        "id": "IKHzM6Tdip0X",
        "colab_type": "code",
        "colab": {
          "base_uri": "https://localhost:8080/",
          "height": 34
        },
        "outputId": "db721390-c062-440f-ba37-e443a66f5e57"
      },
      "source": [
        "model.predict_classes(dog_img)"
      ],
      "execution_count": 106,
      "outputs": [
        {
          "output_type": "execute_result",
          "data": {
            "text/plain": [
              "array([[0]], dtype=int32)"
            ]
          },
          "metadata": {
            "tags": []
          },
          "execution_count": 106
        }
      ]
    },
    {
      "cell_type": "code",
      "metadata": {
        "id": "nUy0wGQ4i197",
        "colab_type": "code",
        "colab": {}
      },
      "source": [
        ""
      ],
      "execution_count": 0,
      "outputs": []
    },
    {
      "cell_type": "code",
      "metadata": {
        "id": "9ZVjUQU-i7LK",
        "colab_type": "code",
        "colab": {}
      },
      "source": [
        ""
      ],
      "execution_count": 0,
      "outputs": []
    }
  ]
}